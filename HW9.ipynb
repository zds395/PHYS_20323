{
 "cells": [
  {
   "cell_type": "markdown",
   "metadata": {},
   "source": [
    "Question 1"
   ]
  },
  {
   "cell_type": "code",
   "execution_count": 104,
   "metadata": {},
   "outputs": [
    {
     "name": "stdout",
     "output_type": "stream",
     "text": [
      "Choose 1, 2, or 3: 3\n",
      "The correct door is not 1\n",
      "Input your final answer: 2\n",
      "You lose.\n",
      "3 3 1\n"
     ]
    }
   ],
   "source": [
    "#manual input if you want to play the game yourself\n",
    "import random\n",
    "x = random.randint(1,3)\n",
    "y = int(input(\"Choose 1, 2, or 3: \"))\n",
    "if x == 1 and y == 1:\n",
    "    z = 2 or 3\n",
    "elif x == 1 and y == 2:\n",
    "    z = 3\n",
    "elif x == 1 and y == 3:\n",
    "    z = 2\n",
    "elif x == 2 and y == 1:\n",
    "    z = 3\n",
    "elif x == 2 and y == 2:\n",
    "    z = 1 or 3\n",
    "elif x == 2 and y == 3:\n",
    "    z = 1\n",
    "elif x == 3 and y == 1:\n",
    "    z = 2\n",
    "elif x == 3 and y == 2:\n",
    "    z = 1\n",
    "elif x == 3 and y == 3:\n",
    "    z = 1 or 2\n",
    "print(\"The correct door is not\", z)\n",
    "y2 = int(input(\"Input your final answer: \"))\n",
    "if y2 == x:\n",
    "    print(\"You win!\")\n",
    "    print(x,y,z)\n",
    "else:\n",
    "    print(\"You lose.\")\n",
    "    print(x,y,z)"
   ]
  },
  {
   "cell_type": "code",
   "execution_count": 151,
   "metadata": {},
   "outputs": [
    {
     "name": "stdout",
     "output_type": "stream",
     "text": [
      "The probability of winning if you switch your answer is 51.8 percent.\n",
      "The probability of winning if you keep your answer is 33.8 percent.\n",
      "If you switch, your chances of winning are increased by 18.0 percentage points.\n"
     ]
    }
   ],
   "source": [
    "import random\n",
    "probswitch = 0\n",
    "probstay = 0\n",
    "\n",
    "for n in range(0,501):\n",
    "#when the contestant decides to switch\n",
    "#x is the door with the prize, y is the door that the contestant chooses, and z is the other (incorrect) door\n",
    "    x = random.randint(1,3)\n",
    "    y = random.randint(1,3)\n",
    "    z = 0\n",
    "    if x == 1 and y == 1:\n",
    "        z = int(random.choice([2, 3]))\n",
    "    elif x == 1 and y == 2:\n",
    "        z = 3\n",
    "    elif x == 1 and y == 3:\n",
    "        z = 2 \n",
    "    elif x == 2 and y == 1:\n",
    "        z = 3 \n",
    "    elif x == 2 and y == 2:\n",
    "        z = int(random.choice([1, 3]))\n",
    "    elif x == 2 and y == 3:\n",
    "        z = 1 \n",
    "    elif x == 3 and y == 1:\n",
    "        z = 2 \n",
    "    elif x == 3 and y == 2:\n",
    "        z = 1 \n",
    "    elif x == 3 and y == 3:\n",
    "        z = int(random.choice([1, 2])) \n",
    "\n",
    "    if z == 1:\n",
    "        y2 = int(random.choice([2,3]))\n",
    "    if z == 2:\n",
    "        y2 = int(random.choice([1,3]))\n",
    "    if z == 3:\n",
    "        y2 = int(random.choice([1,2]))\n",
    "    if y2 == x:\n",
    "        probswitch += 1\n",
    "print (\"The probability of winning if you switch your answer is\", round(((probswitch/500)*100),5), \"percent.\")\n",
    "\n",
    "\n",
    "for n in range(0,501):\n",
    "#when the contestant decides to keep their original guess\n",
    "#x is the door with the prize and y is the door that the contestant chooses. In this case, the z door is irrelevant.\n",
    "    x = random.randint(1,3)\n",
    "    y = random.randint(1,3)\n",
    "    if y == x:\n",
    "        probstay += 1\n",
    "print (\"The probability of winning if you keep your answer is\", round(((probstay/500)*100),5), \"percent.\")\n",
    "print (\"If you switch, your chances of winning are increased by\",\\\n",
    "      round((((probswitch/500)*100) - ((probstay/500)*100)),5), \"percentage points.\")"
   ]
  },
  {
   "cell_type": "markdown",
   "metadata": {},
   "source": [
    "Question 2"
   ]
  },
  {
   "cell_type": "code",
   "execution_count": 158,
   "metadata": {},
   "outputs": [
    {
     "data": {
      "image/png": "[encoded data removed]",
      "text/plain": [
       "<Figure size 432x288 with 1 Axes>"
      ]
     },
     "metadata": {
      "needs_background": "light"
     },
     "output_type": "display_data"
    },
    {
     "data": {
      "text/plain": [
       "<Figure size 432x288 with 0 Axes>"
      ]
     },
     "metadata": {},
     "output_type": "display_data"
    }
   ],
   "source": [
    "from random import random\n",
    "from numpy import arange\n",
    "from pylab import plot,xlabel,ylabel,show\n",
    "from matplotlib import pyplot as plt\n",
    "\n",
    "NBi213 = 10000\n",
    "NTl = 0\n",
    "NPb = 0\n",
    "NBi209 = 0\n",
    "tauBi213 = 46*60\n",
    "tauTl = 2.2*60\n",
    "tauPb = 3.3*60\n",
    "h = 1.0\n",
    "pBi213 = 1 - 2**(-h/tauBi213)\n",
    "pTl = 1 - 2**(-h/tauTl)\n",
    "pPb = 1 - 2**(-h/tauPb)\n",
    "tmax = 20000\n",
    "\n",
    "tpoints = arange(0.0,tmax,h) # make time array\n",
    "Bi213points = [] # empty array to strore # of Tl atoms at each time step\n",
    "Tlpoints = [] # empty array to strore # of Pb atoms at each time step\n",
    "Pbpoints = []\n",
    "Bi209points = []\n",
    "\n",
    "# Main loop\n",
    "for t in tpoints:    # for time 0-1000 sec\n",
    "    Bi209points.append(NBi209) # append starting # of Tl atoms\n",
    "    Pbpoints.append(NPb) # append starting # of Pb atoms\n",
    "    Tlpoints.append(NTl)\n",
    "    Bi213points.append(NBi213)\n",
    "    NdecayPb = 0\n",
    "    NdecayTl = 0\n",
    "    NdecayBi213toTl = 0\n",
    "    NdecayBi213toPb = 0\n",
    "        \n",
    "    for i in range(NPb): # determine number of atoms that decay\n",
    "        if random() < pPb:\n",
    "            NdecayPb += 1\n",
    "    NPb -= NdecayPb # subtract number of decayed Parent atoms \n",
    "    NBi209 += NdecayPb # add number of decayed Daughter atoms \n",
    "    for i in range(NTl): # determine number of atoms that decay\n",
    "        if random() < pTl:\n",
    "            NdecayTl += 1\n",
    "    NTl -= NdecayTl # subtract number of decayed Parent atoms \n",
    "    NPb += NdecayTl\n",
    "    for i in range(NBi213): # determine number of atoms that decay\n",
    "        if random() < pBi213:\n",
    "            if pBi213 <= 0.0209:\n",
    "                NdecayBi213toTl += 1\n",
    "            else:\n",
    "                NdecayBi213toPb += 1\n",
    "    NBi213 -= NdecayBi213toTl\n",
    "    NBi213 -= NdecayBi213toPb\n",
    "    NTl += NdecayBi213toTl\n",
    "    NPb += NdecayBi213toPb\n",
    "\n",
    "# Make the graph\n",
    "plot(tpoints,Tlpoints, c='m') # plot Tl vs. time\n",
    "plot(tpoints,Pbpoints, c='b') # plot Pb vs. time\n",
    "plot(tpoints,Bi209points, c='r')\n",
    "plot(tpoints,Bi213points, c='g')\n",
    "xlabel(\"Time\")\n",
    "ylabel(\"Number of atoms\")\n",
    "show()\n",
    "plt.savefig(\"Bismuth_Decay.png\")"
   ]
  },
  {
   "cell_type": "code",
   "execution_count": null,
   "metadata": {},
   "outputs": [],
   "source": []
  }
 ],
 "metadata": {
  "kernelspec": {
   "display_name": "Python 3",
   "language": "python",
   "name": "python3"
  },
  "language_info": {
   "codemirror_mode": {
    "name": "ipython",
    "version": 3
   },
   "file_extension": ".py",
   "mimetype": "text/x-python",
   "name": "python",
   "nbconvert_exporter": "python",
   "pygments_lexer": "ipython3",
   "version": "3.8.3"
  }
 },
 "nbformat": 4,
 "nbformat_minor": 4
}
